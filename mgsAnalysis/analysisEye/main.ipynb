{
 "cells": [
  {
   "cell_type": "code",
   "execution_count": 1,
   "metadata": {},
   "outputs": [
    {
     "name": "stdout",
     "output_type": "stream",
     "text": [
      "We have 16 subjects so far: ['sub01', 'sub03', 'sub05', 'sub06', 'sub07', 'sub08', 'sub12', 'sub13', 'sub14', 'sub15', 'sub16', 'sub17', 'sub18', 'sub22', 'sub23', 'sub24']\n",
      "\n",
      "Loading existing dataframe! If this is not desired, delete the current mater_df.csv\n"
     ]
    }
   ],
   "source": [
    "import generate_masterdf as gm\n",
    "import seaborn as sns\n",
    "import matplotlib.pyplot as plt\n",
    "import pandas as pd\n",
    "import numpy as np \n",
    "from generate_plots import subject_wise_error_plot, quick_visualization, distribution_plots\n",
    "from helpers import variance_error_summary\n",
    "pd.set_option(\"display.max.columns\", None)\n",
    "pd.set_option(\"display.precision\", 4)"
   ]
  },
  {
   "cell_type": "code",
   "execution_count": 2,
   "metadata": {},
   "outputs": [
    {
     "name": "stdout",
     "output_type": "stream",
     "text": [
      "Dataframe description\n",
      "<class 'pandas.core.frame.DataFrame'>\n",
      "RangeIndex: 19200 entries, 0 to 19199\n",
      "Data columns (total 62 columns):\n",
      " #   Column                  Non-Null Count  Dtype  \n",
      "---  ------                  --------------  -----  \n",
      " 0   subjID                  19200 non-null  int64  \n",
      " 1   day                     19200 non-null  int64  \n",
      " 2   tnum                    19200 non-null  int64  \n",
      " 3   rnum                    19200 non-null  int64  \n",
      " 4   istms                   19200 non-null  int64  \n",
      " 5   ispro                   19200 non-null  int64  \n",
      " 6   instimVF                19200 non-null  int64  \n",
      " 7   bad_drift_correct       19200 non-null  int64  \n",
      " 8   bad_calibration         19200 non-null  int64  \n",
      " 9   breakfix                19200 non-null  int64  \n",
      " 10  no_prim_sacc            19200 non-null  int64  \n",
      " 11  small_sacc              19200 non-null  int64  \n",
      " 12  large_error             19200 non-null  int64  \n",
      " 13  rejtrials               19200 non-null  int64  \n",
      " 14  TarX                    19200 non-null  float64\n",
      " 15  TarY                    19200 non-null  float64\n",
      " 16  isaccX                  17650 non-null  float64\n",
      " 17  isaccY                  17650 non-null  float64\n",
      " 18  fsaccX                  17727 non-null  float64\n",
      " 19  fsaccY                  17727 non-null  float64\n",
      " 20  isacc_err               17650 non-null  float64\n",
      " 21  fsacc_err               17727 non-null  float64\n",
      " 22  isacc_theta_err         17650 non-null  float64\n",
      " 23  fsacc_theta_err         17727 non-null  float64\n",
      " 24  corrected_theta_err     17650 non-null  float64\n",
      " 25  isacc_radius_err        17650 non-null  float64\n",
      " 26  fsacc_radius_err        17727 non-null  float64\n",
      " 27  corrected_radius_err    17650 non-null  float64\n",
      " 28  nsacc                   19200 non-null  int64  \n",
      " 29  calib_err               19142 non-null  float64\n",
      " 30  isacc_rt                17650 non-null  float64\n",
      " 31  fsacc_rt                17727 non-null  float64\n",
      " 32  isacc_peakvel           17650 non-null  float64\n",
      " 33  fsacc_peakvel           17727 non-null  float64\n",
      " 34  trial_type              19200 non-null  object \n",
      " 35  TMS_condition           19200 non-null  object \n",
      " 36  TarRadius               19200 non-null  float64\n",
      " 37  TarTheta                19200 non-null  float64\n",
      " 38  TarX_rotated            19200 non-null  float64\n",
      " 39  TarY_rotated            19200 non-null  float64\n",
      " 40  isaccRadius             17650 non-null  float64\n",
      " 41  isaccTheta              17650 non-null  float64\n",
      " 42  isaccX_rotated          17650 non-null  float64\n",
      " 43  isaccY_rotated          17650 non-null  float64\n",
      " 44  fsaccRadius             17727 non-null  float64\n",
      " 45  fsaccTheta              17727 non-null  float64\n",
      " 46  fsaccX_rotated          17727 non-null  float64\n",
      " 47  fsaccY_rotated          17727 non-null  float64\n",
      " 48  TarRadius_rotated       19200 non-null  float64\n",
      " 49  TarTheta_rotated        19200 non-null  float64\n",
      " 50  isaccRadius_rotated     17650 non-null  float64\n",
      " 51  isaccTheta_rotated      17650 non-null  float64\n",
      " 52  fsaccRadius_rotated     17727 non-null  float64\n",
      " 53  fsaccTheta_rotated      17727 non-null  float64\n",
      " 54  isacc_err_rot           17650 non-null  float64\n",
      " 55  fsacc_err_rot           17727 non-null  float64\n",
      " 56  isacc_theta_rot         17650 non-null  float64\n",
      " 57  fsacc_theta_rot         17727 non-null  float64\n",
      " 58  isacc_err_rot_normed    17650 non-null  float64\n",
      " 59  fsacc_err_rot_normed    17727 non-null  float64\n",
      " 60  isacc_theta_rot_normed  17650 non-null  float64\n",
      " 61  fsacc_theta_rot_normed  17727 non-null  float64\n",
      "dtypes: float64(45), int64(15), object(2)\n",
      "memory usage: 9.1+ MB\n"
     ]
    }
   ],
   "source": [
    "df = gm.master_df\n",
    "df = variance_error_summary(df)\n",
    "print('Dataframe description')\n",
    "df.info()"
   ]
  },
  {
   "cell_type": "code",
   "execution_count": 3,
   "metadata": {},
   "outputs": [
    {
     "data": {
      "text/html": [
       "<div>\n",
       "<style scoped>\n",
       "    .dataframe tbody tr th:only-of-type {\n",
       "        vertical-align: middle;\n",
       "    }\n",
       "\n",
       "    .dataframe tbody tr th {\n",
       "        vertical-align: top;\n",
       "    }\n",
       "\n",
       "    .dataframe thead th {\n",
       "        text-align: right;\n",
       "    }\n",
       "</style>\n",
       "<table border=\"1\" class=\"dataframe\">\n",
       "  <thead>\n",
       "    <tr style=\"text-align: right;\">\n",
       "      <th></th>\n",
       "      <th>trial_type</th>\n",
       "      <th>TMS_condition</th>\n",
       "    </tr>\n",
       "  </thead>\n",
       "  <tbody>\n",
       "    <tr>\n",
       "      <th>count</th>\n",
       "      <td>19200</td>\n",
       "      <td>19200</td>\n",
       "    </tr>\n",
       "    <tr>\n",
       "      <th>unique</th>\n",
       "      <td>4</td>\n",
       "      <td>3</td>\n",
       "    </tr>\n",
       "    <tr>\n",
       "      <th>top</th>\n",
       "      <td>pro_intoVF</td>\n",
       "      <td>TMS intoVF</td>\n",
       "    </tr>\n",
       "    <tr>\n",
       "      <th>freq</th>\n",
       "      <td>4800</td>\n",
       "      <td>6400</td>\n",
       "    </tr>\n",
       "  </tbody>\n",
       "</table>\n",
       "</div>"
      ],
      "text/plain": [
       "        trial_type TMS_condition\n",
       "count        19200         19200\n",
       "unique           4             3\n",
       "top     pro_intoVF    TMS intoVF\n",
       "freq          4800          6400"
      ]
     },
     "execution_count": 3,
     "metadata": {},
     "output_type": "execute_result"
    }
   ],
   "source": [
    "df.describe()\n",
    "df.describe(include=object)"
   ]
  },
  {
   "cell_type": "code",
   "execution_count": 4,
   "metadata": {},
   "outputs": [
    {
     "name": "stdout",
     "output_type": "stream",
     "text": [
      "Original = 19200, after filtering = 17267 trials.\n",
      "\n",
      "Dataframe description after filtering\n",
      "<class 'pandas.core.frame.DataFrame'>\n",
      "Index: 17267 entries, 0 to 19199\n",
      "Data columns (total 62 columns):\n",
      " #   Column                  Non-Null Count  Dtype  \n",
      "---  ------                  --------------  -----  \n",
      " 0   subjID                  17267 non-null  int64  \n",
      " 1   day                     17267 non-null  int64  \n",
      " 2   tnum                    17267 non-null  int64  \n",
      " 3   rnum                    17267 non-null  int64  \n",
      " 4   istms                   17267 non-null  int64  \n",
      " 5   ispro                   17267 non-null  int64  \n",
      " 6   instimVF                17267 non-null  int64  \n",
      " 7   bad_drift_correct       17267 non-null  int64  \n",
      " 8   bad_calibration         17267 non-null  int64  \n",
      " 9   breakfix                17267 non-null  int64  \n",
      " 10  no_prim_sacc            17267 non-null  int64  \n",
      " 11  small_sacc              17267 non-null  int64  \n",
      " 12  large_error             17267 non-null  int64  \n",
      " 13  rejtrials               17267 non-null  int64  \n",
      " 14  TarX                    17267 non-null  float64\n",
      " 15  TarY                    17267 non-null  float64\n",
      " 16  isaccX                  17267 non-null  float64\n",
      " 17  isaccY                  17267 non-null  float64\n",
      " 18  fsaccX                  17267 non-null  float64\n",
      " 19  fsaccY                  17267 non-null  float64\n",
      " 20  isacc_err               17267 non-null  float64\n",
      " 21  fsacc_err               17267 non-null  float64\n",
      " 22  isacc_theta_err         17267 non-null  float64\n",
      " 23  fsacc_theta_err         17267 non-null  float64\n",
      " 24  corrected_theta_err     17267 non-null  float64\n",
      " 25  isacc_radius_err        17267 non-null  float64\n",
      " 26  fsacc_radius_err        17267 non-null  float64\n",
      " 27  corrected_radius_err    17267 non-null  float64\n",
      " 28  nsacc                   17267 non-null  int64  \n",
      " 29  calib_err               17267 non-null  float64\n",
      " 30  isacc_rt                17267 non-null  float64\n",
      " 31  fsacc_rt                17267 non-null  float64\n",
      " 32  isacc_peakvel           17267 non-null  float64\n",
      " 33  fsacc_peakvel           17267 non-null  float64\n",
      " 34  trial_type              17267 non-null  object \n",
      " 35  TMS_condition           17267 non-null  object \n",
      " 36  TarRadius               17267 non-null  float64\n",
      " 37  TarTheta                17267 non-null  float64\n",
      " 38  TarX_rotated            17267 non-null  float64\n",
      " 39  TarY_rotated            17267 non-null  float64\n",
      " 40  isaccRadius             17267 non-null  float64\n",
      " 41  isaccTheta              17267 non-null  float64\n",
      " 42  isaccX_rotated          17267 non-null  float64\n",
      " 43  isaccY_rotated          17267 non-null  float64\n",
      " 44  fsaccRadius             17267 non-null  float64\n",
      " 45  fsaccTheta              17267 non-null  float64\n",
      " 46  fsaccX_rotated          17267 non-null  float64\n",
      " 47  fsaccY_rotated          17267 non-null  float64\n",
      " 48  TarRadius_rotated       17267 non-null  float64\n",
      " 49  TarTheta_rotated        17267 non-null  float64\n",
      " 50  isaccRadius_rotated     17267 non-null  float64\n",
      " 51  isaccTheta_rotated      17267 non-null  float64\n",
      " 52  fsaccRadius_rotated     17267 non-null  float64\n",
      " 53  fsaccTheta_rotated      17267 non-null  float64\n",
      " 54  isacc_err_rot           17267 non-null  float64\n",
      " 55  fsacc_err_rot           17267 non-null  float64\n",
      " 56  isacc_theta_rot         17267 non-null  float64\n",
      " 57  fsacc_theta_rot         17267 non-null  float64\n",
      " 58  isacc_err_rot_normed    17267 non-null  float64\n",
      " 59  fsacc_err_rot_normed    17267 non-null  float64\n",
      " 60  isacc_theta_rot_normed  17267 non-null  float64\n",
      " 61  fsacc_theta_rot_normed  17267 non-null  float64\n",
      "dtypes: float64(45), int64(15), object(2)\n",
      "memory usage: 8.3+ MB\n"
     ]
    }
   ],
   "source": [
    "n_rows_original = len(df)\n",
    "# Filter out entries with 'rejtrials' == 1\n",
    "df_filtered = df[(df['rejtrials'] != 1)].copy()\n",
    "df_filtered = df_filtered.dropna()\n",
    "n_rows_filtered = len(df_filtered)\n",
    "print(f\"Original = {n_rows_original}, after filtering = {n_rows_filtered} trials.\")\n",
    "print()\n",
    "print('Dataframe description after filtering')\n",
    "df_filtered.info()"
   ]
  },
  {
   "cell_type": "code",
   "execution_count": 5,
   "metadata": {},
   "outputs": [
    {
     "data": {
      "image/png": "[encoded data removed]",
      "text/plain": [
       "<Figure size 500x800 with 1 Axes>"
      ]
     },
     "metadata": {},
     "output_type": "display_data"
    }
   ],
   "source": [
    "subject_wise_error_plot(df_filtered[df_filtered['subjID'] != 18], 'isacc_err', normalizer = False, indiv_summary = False, remove_outliers = True)"
   ]
  },
  {
   "cell_type": "code",
   "execution_count": null,
   "metadata": {},
   "outputs": [],
   "source": [
    "subject_wise_error_plot(df_filtered[df_filtered['subjID'] != 18], 'isacc_err', normalizer = False, indiv_summary = True, remove_outliers = True)"
   ]
  },
  {
   "cell_type": "code",
   "execution_count": null,
   "metadata": {},
   "outputs": [],
   "source": [
    "subject_wise_error_plot(df_filtered[df_filtered['subjID'] != 18], 'fsacc_err', normalizer = False, indiv_summary = False, remove_outliers = True)"
   ]
  },
  {
   "cell_type": "code",
   "execution_count": null,
   "metadata": {},
   "outputs": [],
   "source": [
    "df_filtered_good = df_filtered[df_filtered['subjID'] != 18]\n",
    "plt.figure(figsize=(10, 10))\n",
    "plt.plot(df_filtered_good['isacc_rt'], df_filtered_good['isacc_err'], 'r.', markersize=1)\n",
    "plt.ylabel('Saccade error (dva)')\n",
    "plt.xlabel('RT (s)')\n",
    "plt.title('Speed accuracy curve')"
   ]
  },
  {
   "cell_type": "code",
   "execution_count": null,
   "metadata": {},
   "outputs": [],
   "source": [
    "subject_wise_error_plot(df_filtered[df_filtered['subjID'] != 18], 'fsacc_err', normalizer = 'individualized', indiv_summary = True, remove_outliers = False)"
   ]
  },
  {
   "cell_type": "code",
   "execution_count": null,
   "metadata": {},
   "outputs": [],
   "source": [
    "# Summary across conditions for subjects\n",
    "table_summary = pd.pivot_table(df, values = 'fsacc_err', index = ['subjID'], columns = ['TMS_condition', 'ispro'], aggfunc = lambda x: np.sum(~pd.isnull(x)))\n",
    "table_summary"
   ]
  },
  {
   "cell_type": "code",
   "execution_count": null,
   "metadata": {},
   "outputs": [],
   "source": [
    "raw_error_summary = pd.pivot_table(df_filtered, values = ['fsacc_err', 'fsacc_theta_err', 'fsacc_radius_err'], index = ['subjID'], columns = ['TMS_condition', 'ispro'], aggfunc = lambda x: np.nanmean(np.abs(x)))\n",
    "raw_error_summary"
   ]
  },
  {
   "cell_type": "code",
   "execution_count": null,
   "metadata": {},
   "outputs": [],
   "source": [
    "error_summary = pd.pivot_table(df_filtered, values = ['fsacc_theta_rot_normed', 'fsacc_theta_rot'], index = ['subjID'], columns = ['TMS_condition', 'ispro'], aggfunc = lambda x: np.nanmean(np.abs(x)))\n",
    "error_summary"
   ]
  },
  {
   "cell_type": "code",
   "execution_count": null,
   "metadata": {},
   "outputs": [],
   "source": [
    "df_filtered.describe()\n",
    "df_filtered.describe(include=object)"
   ]
  },
  {
   "cell_type": "code",
   "execution_count": null,
   "metadata": {},
   "outputs": [],
   "source": [
    "subjIDs = df_filtered['subjID'].unique()\n",
    "#df_filtered = df_filtered[df_filtered['instimVF'] == 0 ]\n",
    "for ii in range(len(subjIDs)):\n",
    "    plt.figure()\n",
    "    plt.plot(df_filtered[df_filtered['subjID']==subjIDs[ii]]['TarX'], df_filtered[df_filtered['subjID']==subjIDs[ii]]['TarY'], 'r.', markersize = 2)\n",
    "    plt.plot(df_filtered[df_filtered['subjID']==subjIDs[ii]]['fsaccX'], df_filtered[df_filtered['subjID']==subjIDs[ii]]['fsaccY'], 'ks', markersize = 2)\n",
    "    plt.xlim(-25, 25)\n",
    "    plt.ylim(-20, 20)\n",
    "    plt.title(str(subjIDs[ii]))"
   ]
  },
  {
   "cell_type": "code",
   "execution_count": null,
   "metadata": {},
   "outputs": [],
   "source": [
    "subjIDs = df_filtered['subjID'].unique()\n",
    "#df_filtered = df_filtered[(df_filtered['TarTheta'] > -np.pi/2) & (df_filtered['TarTheta'] < np.pi/2) ]\n",
    "for ii in range(len(subjIDs)):\n",
    "    plt.figure()\n",
    "    plt.plot(df_filtered[df_filtered['subjID']==subjIDs[ii]]['TarX_rotated'], df_filtered[df_filtered['subjID']==subjIDs[ii]]['TarY_rotated'], 'ro', markersize = 4)\n",
    "    plt.plot(df_filtered[df_filtered['subjID']==subjIDs[ii]]['fsaccX_rotated'], df_filtered[df_filtered['subjID']==subjIDs[ii]]['fsaccY_rotated'], 'ks', markersize = 2)\n",
    "    plt.xlim([0, 25])\n",
    "    plt.ylim([-20, 20])\n",
    "    plt.title(str(subjIDs[ii]))"
   ]
  },
  {
   "cell_type": "code",
   "execution_count": null,
   "metadata": {},
   "outputs": [],
   "source": [
    "table_summary_hh = pd.pivot_table(df, values = 'TarTheta_rotated', index = ['subjID'], columns = ['TMS_condition', 'ispro'], aggfunc = lambda x: (np.max(x) - np.min(x)) * (180/np.pi))\n",
    "table_summary_hh"
   ]
  },
  {
   "cell_type": "code",
   "execution_count": null,
   "metadata": {},
   "outputs": [],
   "source": [
    "## Check for any existing trend in data due to eccentricity or angular width\n",
    "subjIDs = df_filtered['subjID'].unique()\n",
    "angular_width = np.zeros((len(subjIDs), 2) )\n",
    "eccs = np.zeros((len(subjIDs),2) )\n",
    "mean_err = np.zeros((len(subjIDs), 2))\n",
    "median_err = np.zeros((len(subjIDs), 2))\n",
    "var_err = np.zeros((len(subjIDs), 2))\n",
    "range_err = np.zeros((len(subjIDs), 2))\n",
    "err_met = 'fsacc_theta_err'\n",
    "for ii in range(len(subjIDs)):\n",
    "    this_subj_df_pro = df_filtered[(df_filtered['subjID']==subjIDs[ii]) & (df_filtered['TMS_condition']=='No TMS') & (df_filtered['ispro']==1) ]\n",
    "    this_subj_df_anti = df_filtered[(df_filtered['subjID']==subjIDs[ii]) & (df_filtered['TMS_condition']=='No TMS') & (df_filtered['ispro']==0)]\n",
    "    mean_err[ii, 0] = np.nanmean(this_subj_df_pro[err_met])\n",
    "    median_err[ii, 0] = np.nanmedian(this_subj_df_pro[err_met])\n",
    "    var_err[ii, 0] = np.nanvar(this_subj_df_pro[err_met])\n",
    "    range_err[ii, 0] = np.nanmax(this_subj_df_pro[err_met]) - np.nanmin(this_subj_df_pro[err_met])\n",
    "    mean_err[ii, 1] = np.nanmean(this_subj_df_anti[err_met])\n",
    "    median_err[ii, 1] = np.nanmedian(this_subj_df_anti[err_met])\n",
    "    var_err[ii, 1] = np.nanvar(this_subj_df_anti[err_met])\n",
    "    range_err[ii, 1] = np.nanmax(this_subj_df_anti[err_met]) - np.nanmin(this_subj_df_anti[err_met])\n",
    "    angular_width[ii, 0] = (this_subj_df_pro['TarTheta_rotated'].max() - this_subj_df_pro['TarTheta_rotated'].min()) * (180/np.pi)\n",
    "    angular_width[ii, 1] = (this_subj_df_anti['TarTheta_rotated'].max() - this_subj_df_anti['TarTheta_rotated'].min()) * (180/np.pi)\n",
    "    eccs[ii, 0] = this_subj_df_pro['TarRadius'].mean()\n",
    "    eccs[ii, 1] = this_subj_df_anti['TarRadius'].mean()\n",
    "\n",
    "fig, axs = plt.subplots(nrows = 2, ncols = 4, figsize = (20, 10))\n",
    "axs[0, 0].plot(eccs[:, 0], mean_err[:, 0], 'bo')\n",
    "axs[0, 0].plot(eccs[:, 1], mean_err[:, 1], 'ro')\n",
    "axs[0, 0].set_xlabel('eccentricity')\n",
    "axs[0, 0].set_ylabel('mean err')\n",
    "\n",
    "axs[0, 1].plot(eccs[:, 0], median_err[:, 0], 'bo')\n",
    "axs[0, 1].plot(eccs[:, 1], median_err[:, 1], 'ro')\n",
    "axs[0, 1].set_xlabel('eccentricity')\n",
    "axs[0, 1].set_ylabel('median err')\n",
    "\n",
    "axs[0, 2].plot(eccs[:, 0], var_err[:, 0], 'bo')\n",
    "axs[0, 2].plot(eccs[:, 1], var_err[:, 1], 'ro')\n",
    "axs[0, 2].set_xlabel('eccentricity')\n",
    "axs[0, 2].set_ylabel('var err')\n",
    "\n",
    "axs[0, 3].plot(eccs[:, 0], range_err[:, 0], 'bo')\n",
    "axs[0, 3].plot(eccs[:, 1], range_err[:, 1], 'ro')\n",
    "axs[0, 3].set_xlabel('eccentricity')\n",
    "axs[0, 3].set_ylabel('range err')\n",
    "\n",
    "axs[1, 0].plot(angular_width[:, 0], mean_err[:, 0], 'bo')\n",
    "axs[1, 0].plot(angular_width[:, 1], mean_err[:, 1], 'ro')\n",
    "axs[1, 0].set_xlabel('angular_width')\n",
    "axs[1, 0].set_ylabel('mean err')\n",
    "\n",
    "axs[1, 1].plot(angular_width[:, 0], median_err[:, 0], 'bo')\n",
    "axs[1, 1].plot(angular_width[:, 1], median_err[:, 1], 'ro')\n",
    "axs[1, 1].set_xlabel('angular_width')\n",
    "axs[1, 1].set_ylabel('median err')\n",
    "\n",
    "axs[1, 2].plot(angular_width[:, 0], var_err[:, 0], 'bo')\n",
    "axs[1, 2].plot(angular_width[:, 1], var_err[:, 1], 'ro')\n",
    "axs[1, 2].set_xlabel('angular_width')\n",
    "axs[1, 2].set_ylabel('var err')\n",
    "\n",
    "axs[1, 3].plot(angular_width[:, 0], range_err[:, 0], 'bo')\n",
    "axs[1, 3].plot(angular_width[:, 1], range_err[:, 1], 'ro')\n",
    "axs[1, 3].set_xlabel('angular_width')\n",
    "axs[1, 3].set_ylabel('range err')\n",
    "plt.show()\n"
   ]
  },
  {
   "attachments": {},
   "cell_type": "markdown",
   "metadata": {},
   "source": [
    "Control condition is pro saccades outside VF, where the target and the saccade goal are both located outside the TMS VF. Hence we are interested in seeing if there is a modulation of behavior with respect to this condition. \\\n",
    "Let the errors be: [pNo, pIn, pOut, aNo, aIn, aOut], where pNo = pro saccades with No TMS, pIn = pro saccades in TMS VF, pOut =  pro saccades outside TMS VF, aNo = anti saccades with No TMS, aIn = anti saccades in TMS VF, aOut = anti saccades outside TMS VF. \\\n",
    "The goal is to compare pNo and pIn to pOut.  \\\n",
    "$\\therefore error_m = \\frac{|pX - pOut|}{pOut} $, where X = No, In, Out \\\n",
    "Similarly, we are interested in comparing aNo and aIn with aOut. and therefore, modulated error for anti-saccades would be: \\\n",
    "$error_m = \\frac{|aX - aOut|}{aOut} $, where X = No, In, Out \\\n",
    "However, this negates the obvious difference between anti and pro saccades. Therefore, anti-saccades need to be modulated with the subject-wise baseline difference between anti and pro saccad errors. Hence, the modified formula becomes: \\\n",
    "$error_m = \\frac{|aX - aOut|}{aOut} + (aOut - pOut)$, where X = No, In, Out \\\n"
   ]
  },
  {
   "cell_type": "markdown",
   "metadata": {},
   "source": [
    "Look at raw voltages to remove ERP\n",
    "NAN out TMS locked pulse and set it to mean of activity before and after."
   ]
  },
  {
   "cell_type": "code",
   "execution_count": null,
   "metadata": {},
   "outputs": [],
   "source": [
    "df_filtered.columns"
   ]
  },
  {
   "cell_type": "code",
   "execution_count": null,
   "metadata": {},
   "outputs": [],
   "source": [
    "N1 = [1, 1, 2, 2, 2, 2, 2, 2, 3, 2, 3, 3, 3, 3, 3, 4, 4, 4, 4, 4]\n",
    "N1[4]"
   ]
  },
  {
   "cell_type": "code",
   "execution_count": null,
   "metadata": {},
   "outputs": [],
   "source": [
    "subjIDs = df_filtered['subjID'].unique()\n",
    "for ii in range(len(subjIDs)):\n",
    "   subject_wise_error_plot(df_filtered[df_filtered['subjID'] == subjIDs[ii]], 'isacc_err', False)\n",
    "\n",
    "subject_wise_error_plot(df_filtered[(df_filtered['subjID'] != 18) & (df_filtered['subjID'] != 8)], 'isacc_err', False)\n",
    "subject_wise_error_plot(df_filtered, 'isacc_err', False)"
   ]
  },
  {
   "cell_type": "code",
   "execution_count": null,
   "metadata": {},
   "outputs": [],
   "source": [
    "subjIDs = df_filtered['subjID'].unique()\n",
    "for ii in range(len(subjIDs)):\n",
    "   subject_wise_error_plot(df_filtered[df_filtered['subjID'] == subjIDs[ii]], 'isacc_rt', False)\n",
    "\n",
    "subject_wise_error_plot(df_filtered[(df_filtered['subjID'] != 18) & (df_filtered['subjID'] != 8)], 'isacc_rt', False)\n",
    "subject_wise_error_plot(df_filtered, 'isacc_rt', False)"
   ]
  },
  {
   "cell_type": "code",
   "execution_count": null,
   "metadata": {},
   "outputs": [],
   "source": [
    "subjIDs = df['subjID'].unique()\n",
    "max_ax = 25\n",
    "for ss in range(len(subjIDs)):\n",
    "    subj_df =  df[df['subjID']==subjIDs[ss]]\n",
    "    fig, axes = plt.subplots(nrows = 3, ncols = 2, figsize = (15, 15))\n",
    "    plt.suptitle(subjIDs[ss])\n",
    "    axes[0, 0].plot(subj_df[(subj_df['TMS_condition']=='No TMS') & (subj_df['ispro'] == 1)]['isaccX_rotated'], subj_df[(subj_df['TMS_condition']=='No TMS') & (subj_df['ispro'] == 1)]['isaccY_rotated'], 'k*', markersize = 2)\n",
    "    axes[0, 0].plot(subj_df[(subj_df['TMS_condition']=='No TMS') & (subj_df['ispro'] == 1)]['TarX_rotated'], subj_df[(subj_df['TMS_condition']=='No TMS') & (subj_df['ispro'] == 1)]['TarY_rotated'], 'ro', markersize = 2)\n",
    "    axes[0, 1].plot(subj_df[(subj_df['TMS_condition']=='No TMS') & (subj_df['ispro'] == 0)]['isaccX_rotated'], subj_df[(subj_df['TMS_condition']=='No TMS') & (subj_df['ispro'] == 0)]['isaccY_rotated'], 'k*', markersize = 2)\n",
    "    axes[0, 1].plot(subj_df[(subj_df['TMS_condition']=='No TMS') & (subj_df['ispro'] ==0)]['TarX_rotated'], subj_df[(subj_df['TMS_condition']=='No TMS') & (subj_df['ispro'] == 0)]['TarY_rotated'], 'ro', markersize = 2)\n",
    "    \n",
    "    axes[1, 0].plot(subj_df[(subj_df['TMS_condition']=='TMS intoVF') & (subj_df['ispro'] == 1)]['isaccX_rotated'], subj_df[(subj_df['TMS_condition']=='TMS intoVF') & (subj_df['ispro'] == 1)]['isaccY_rotated'], 'k*', markersize = 2)\n",
    "    axes[1, 0].plot(subj_df[(subj_df['TMS_condition']=='TMS intoVF') & (subj_df['ispro'] == 1)]['TarX_rotated'], subj_df[(subj_df['TMS_condition']=='TMS intoVF') & (subj_df['ispro'] == 1)]['TarY_rotated'], 'ro', markersize = 2)\n",
    "    axes[1, 1].plot(subj_df[(subj_df['TMS_condition']=='TMS intoVF') & (subj_df['ispro'] == 0)]['isaccX_rotated'], subj_df[(subj_df['TMS_condition']=='TMS intoVF') & (subj_df['ispro'] == 0)]['isaccY_rotated'], 'k*', markersize = 2)\n",
    "    axes[1, 1].plot(subj_df[(subj_df['TMS_condition']=='TMS intoVF') & (subj_df['ispro'] ==0)]['TarX_rotated'], subj_df[(subj_df['TMS_condition']=='TMS intoVF') & (subj_df['ispro'] == 0)]['TarY_rotated'], 'ro', markersize = 2)\n",
    "    \n",
    "    axes[2, 0].plot(subj_df[(subj_df['TMS_condition']=='TMS outVF') & (subj_df['ispro'] == 1)]['isaccX_rotated'], subj_df[(subj_df['TMS_condition']=='TMS outVF') & (subj_df['ispro'] == 1)]['isaccY_rotated'], 'k*', markersize = 2)\n",
    "    axes[2, 0].plot(subj_df[(subj_df['TMS_condition']=='TMS outVF') & (subj_df['ispro'] == 1)]['TarX_rotated'], subj_df[(subj_df['TMS_condition']=='TMS outVF') & (subj_df['ispro'] == 1)]['TarY_rotated'], 'ro', markersize = 2)\n",
    "    axes[2, 1].plot(subj_df[(subj_df['TMS_condition']=='TMS outVF') & (subj_df['ispro'] == 0)]['isaccX_rotated'], subj_df[(subj_df['TMS_condition']=='TMS outVF') & (subj_df['ispro'] == 0)]['isaccY_rotated'], 'k*', markersize = 2)\n",
    "    axes[2, 1].plot(subj_df[(subj_df['TMS_condition']=='TMS outVF') & (subj_df['ispro'] ==0)]['TarX_rotated'], subj_df[(subj_df['TMS_condition']=='TMS outVF') & (subj_df['ispro'] == 0)]['TarY_rotated'], 'ro', markersize = 2)\n",
    "    \n",
    "\n",
    "    axes[0, 0].set_xlim([-max_ax, max_ax])\n",
    "    axes[0, 0].set_ylim([-max_ax, max_ax])\n",
    "    axes[0, 1].set_xlim([-max_ax, max_ax])\n",
    "    axes[0, 1].set_ylim([-max_ax, max_ax])\n",
    "    axes[1, 0].set_xlim([-max_ax, max_ax])\n",
    "    axes[1, 0].set_ylim([-max_ax, max_ax])\n",
    "    axes[1, 1].set_xlim([-max_ax, max_ax])\n",
    "    axes[1, 1].set_ylim([-max_ax, max_ax])\n",
    "    axes[2, 0].set_xlim([-max_ax, max_ax])\n",
    "    axes[2, 0].set_ylim([-max_ax, max_ax])\n",
    "    axes[2, 1].set_xlim([-max_ax, max_ax])\n",
    "    axes[2, 1].set_ylim([-max_ax, max_ax])\n",
    "\n",
    "    axes[0, 0].set_box_aspect(1)\n",
    "    axes[0, 1].set_box_aspect(1)\n",
    "    axes[1, 0].set_box_aspect(1)\n",
    "    axes[1, 1].set_box_aspect(1)\n",
    "    axes[2, 0].set_box_aspect(1)\n",
    "    axes[2, 1].set_box_aspect(1)\n",
    "\n",
    "    axes[0, 0].set_title('No TMS & pro')\n",
    "    axes[0, 1].set_title('No TMS & anti')\n",
    "    axes[1, 0].set_title('TMS intoVF & pro')\n",
    "    axes[1, 1].set_title('TMS intoVF & anti')\n",
    "    axes[2, 0].set_title('TMS outVF & pro')\n",
    "    axes[2, 1].set_title('TMS outVF & anti')\n",
    "    plt.show()\n",
    "    "
   ]
  },
  {
   "cell_type": "code",
   "execution_count": null,
   "metadata": {},
   "outputs": [],
   "source": [
    "from scipy.stats import circmean\n",
    "r = np.linspace(8, 12, 1000)\n",
    "r_sacc = np.linspace(12, 8, 1000)\n",
    "theta_rang = np.linspace(-np.pi, np.pi, 1000)\n",
    "theta_sacc = np.linspace(np.pi, -np.pi, 1000)\n",
    "x = r * np.cos(theta_rang)\n",
    "y = r * np.sin(theta_rang)\n",
    "x_sacc = r_sacc * np.cos(theta_sacc)\n",
    "y_sacc = r_sacc * np.sin(theta_sacc)\n",
    "raw_error = np.sqrt((x-x_sacc)**2+(y-y_sacc)**2)\n",
    "\n",
    "mean_target = circmean(theta_rang, high=np.pi, low=-np.pi)\n",
    "this_angle = -1*mean_target\n",
    "#radial_error = np.max(r) - r\n",
    "#radial_error_sacc = np.max(r) - r_sacc\n",
    "rotation_matrix = np.array([[np.cos(this_angle), -np.sin(this_angle)],\n",
    "                                    [np.sin(this_angle), np.cos(this_angle)]])\n",
    "\n",
    "x_temp = x #+ radial_error * np.cos(theta_rang)\n",
    "y_temp = y #+ radial_error * np.sin(theta_rang)\n",
    "input_target = np.vstack((x_temp, y_temp))\n",
    "rotated_target = np.dot(rotation_matrix, input_target)\n",
    "x_rot = rotated_target[0]\n",
    "y_rot = rotated_target[1]\n",
    "\n",
    "x_sacc_temp = x_sacc #+ radial_error_sacc * np.cos(theta_sacc)\n",
    "y_sacc_temp = y_sacc #+ radial_error_sacc * np.sin(theta_sacc)\n",
    "input_sacc = np.vstack((x_sacc_temp, y_sacc_temp))\n",
    "rotated_sacc = np.dot(rotation_matrix, input_sacc)\n",
    "x_sacc_rot = rotated_sacc[0]\n",
    "y_sacc_rot = rotated_sacc[1]\n",
    "\n",
    "rot_error = np.sqrt((x_rot-x_sacc_rot)**2+(y_rot-y_sacc_rot)**2)\n",
    "\n",
    "theta_targ_estim = np.arctan2(y, x)\n",
    "theta_targ_rot_estim = np.arctan2(y_rot, x_rot)\n",
    "plt.figure()\n",
    "plt.plot(x, y, 'ro')\n",
    "plt.plot(x_sacc, y_sacc, 'ks', markersize = 2)\n",
    "plt.xlim([-15, 15])\n",
    "plt.ylim([-15, 15])\n",
    "plt.show()\n",
    "\n",
    "plt.figure()\n",
    "plt.plot(x_rot, y_rot, 'ro')\n",
    "plt.plot(x_sacc_rot, y_sacc_rot, 'ks', markersize = 2)\n",
    "plt.xlim([-15, 15])\n",
    "plt.ylim([-15, 15])\n",
    "plt.show()\n"
   ]
  },
  {
   "cell_type": "code",
   "execution_count": null,
   "metadata": {},
   "outputs": [],
   "source": [
    "plt.plot(raw_error, rot_error, 'ks', markersize = 2)\n",
    "plt.plot(np.linspace(0, 25, 100), np.linspace(0, 25, 100), 'mo', markersize =2)\n",
    "#plt.xlim([0, 5])\n",
    "#plt.ylim([0, 5])\n",
    "plt.show()"
   ]
  },
  {
   "cell_type": "code",
   "execution_count": null,
   "metadata": {},
   "outputs": [],
   "source": [
    "plt.plot(theta_targ_estim, theta_targ_rot_estim, 'ks', markersize = 2)\n",
    "#plt.plot(np.linspace(0, 25, 100), np.linspace(0, 25, 100), 'mo', markersize =2)\n",
    "#plt.xlim([0, 5])\n",
    "#plt.ylim([0, 5])\n",
    "plt.show()"
   ]
  },
  {
   "cell_type": "code",
   "execution_count": null,
   "metadata": {},
   "outputs": [],
   "source": [
    "subjIDs = df['subjID'].unique()\n",
    "max_ax = 25\n",
    "nbins = 70\n",
    "for ss in range(len(subjIDs)):\n",
    "    subj_df =  df[(df['subjID']==subjIDs[ss]) & (df['rejtrials']!=1)]\n",
    "    fig, axes = plt.subplots(nrows = 3, ncols = 2, figsize = (15, 15))\n",
    "    plt.suptitle(subjIDs[ss])\n",
    "    axes[0, 0].hist2d(subj_df[(subj_df['TMS_condition']=='No TMS') & (subj_df['ispro'] == 1)]['isaccX_rotated'], subj_df[(subj_df['TMS_condition']=='No TMS') & (subj_df['ispro'] == 1)]['isaccY_rotated'], bins = nbins, range = [[-max_ax, max_ax], [-max_ax, max_ax]], density=False)\n",
    "    axes[0, 0].plot(subj_df[(subj_df['TMS_condition']=='No TMS') & (subj_df['ispro'] == 1)]['TarX_rotated'], subj_df[(subj_df['TMS_condition']=='No TMS') & (subj_df['ispro'] == 1)]['TarY_rotated'], 'ro', markersize = 2)\n",
    "    axes[0, 1].hist2d(subj_df[(subj_df['TMS_condition']=='No TMS') & (subj_df['ispro'] == 0)]['isaccX_rotated'], subj_df[(subj_df['TMS_condition']=='No TMS') & (subj_df['ispro'] == 0)]['isaccY_rotated'], bins = nbins, range = [[-max_ax, max_ax], [-max_ax, max_ax]], density=False)\n",
    "    axes[0, 1].plot(subj_df[(subj_df['TMS_condition']=='No TMS') & (subj_df['ispro'] ==0)]['TarX_rotated'], subj_df[(subj_df['TMS_condition']=='No TMS') & (subj_df['ispro'] == 0)]['TarY_rotated'], 'ro', markersize = 2)\n",
    "    \n",
    "    axes[1, 0].hist2d(subj_df[(subj_df['TMS_condition']=='TMS intoVF') & (subj_df['ispro'] == 1)]['isaccX_rotated'], subj_df[(subj_df['TMS_condition']=='TMS intoVF') & (subj_df['ispro'] == 1)]['isaccY_rotated'], bins = nbins, range = [[-max_ax, max_ax], [-max_ax, max_ax]], density=False)\n",
    "    axes[1, 0].plot(subj_df[(subj_df['TMS_condition']=='TMS intoVF') & (subj_df['ispro'] == 1)]['TarX_rotated'], subj_df[(subj_df['TMS_condition']=='TMS intoVF') & (subj_df['ispro'] == 1)]['TarY_rotated'], 'ro', markersize = 2)\n",
    "    axes[1, 1].hist2d(subj_df[(subj_df['TMS_condition']=='TMS intoVF') & (subj_df['ispro'] == 0)]['isaccX_rotated'], subj_df[(subj_df['TMS_condition']=='TMS intoVF') & (subj_df['ispro'] == 0)]['isaccY_rotated'], bins = nbins, range = [[-max_ax, max_ax], [-max_ax, max_ax]], density=False)\n",
    "    axes[1, 1].plot(subj_df[(subj_df['TMS_condition']=='TMS intoVF') & (subj_df['ispro'] ==0)]['TarX_rotated'], subj_df[(subj_df['TMS_condition']=='TMS intoVF') & (subj_df['ispro'] == 0)]['TarY_rotated'], 'ro', markersize = 2)\n",
    "    \n",
    "    axes[2, 0].hist2d(subj_df[(subj_df['TMS_condition']=='TMS outVF') & (subj_df['ispro'] == 1)]['isaccX_rotated'], subj_df[(subj_df['TMS_condition']=='TMS outVF') & (subj_df['ispro'] == 1)]['isaccY_rotated'], bins = nbins, range = [[-max_ax, max_ax], [-max_ax, max_ax]], density=False)\n",
    "    axes[2, 0].plot(subj_df[(subj_df['TMS_condition']=='TMS outVF') & (subj_df['ispro'] == 1)]['TarX_rotated'], subj_df[(subj_df['TMS_condition']=='TMS outVF') & (subj_df['ispro'] == 1)]['TarY_rotated'], 'ro', markersize = 2)\n",
    "    axes[2, 1].hist2d(subj_df[(subj_df['TMS_condition']=='TMS outVF') & (subj_df['ispro'] == 0)]['isaccX_rotated'], subj_df[(subj_df['TMS_condition']=='TMS outVF') & (subj_df['ispro'] == 0)]['isaccY_rotated'], bins = nbins, range = [[-max_ax, max_ax], [-max_ax, max_ax]], density=False)\n",
    "    axes[2, 1].plot(subj_df[(subj_df['TMS_condition']=='TMS outVF') & (subj_df['ispro'] ==0)]['TarX_rotated'], subj_df[(subj_df['TMS_condition']=='TMS outVF') & (subj_df['ispro'] == 0)]['TarY_rotated'], 'ro', markersize = 2)\n",
    "    \n",
    "\n",
    "    axes[0, 0].set_xlim([0, max_ax])\n",
    "    axes[0, 0].set_ylim([-max_ax, max_ax])\n",
    "    axes[0, 1].set_xlim([0, max_ax])\n",
    "    axes[0, 1].set_ylim([-max_ax, max_ax])\n",
    "    axes[1, 0].set_xlim([0, max_ax])\n",
    "    axes[1, 0].set_ylim([-max_ax, max_ax])\n",
    "    axes[1, 1].set_xlim([0, max_ax])\n",
    "    axes[1, 1].set_ylim([-max_ax, max_ax])\n",
    "    axes[2, 0].set_xlim([0, max_ax])\n",
    "    axes[2, 0].set_ylim([-max_ax, max_ax])\n",
    "    axes[2, 1].set_xlim([0, max_ax])\n",
    "    axes[2, 1].set_ylim([-max_ax, max_ax])\n",
    "\n",
    "    axes[0, 0].set_box_aspect(1)\n",
    "    axes[0, 1].set_box_aspect(1)\n",
    "    axes[1, 0].set_box_aspect(1)\n",
    "    axes[1, 1].set_box_aspect(1)\n",
    "    axes[2, 0].set_box_aspect(1)\n",
    "    axes[2, 1].set_box_aspect(1)\n",
    "\n",
    "    axes[0, 0].set_title('No TMS & pro')\n",
    "    axes[0, 1].set_title('No TMS & anti')\n",
    "    axes[1, 0].set_title('TMS intoVF & pro')\n",
    "    axes[1, 1].set_title('TMS intoVF & anti')\n",
    "    axes[2, 0].set_title('TMS outVF & pro')\n",
    "    axes[2, 1].set_title('TMS outVF & anti')\n",
    "    plt.show()"
   ]
  },
  {
   "cell_type": "code",
   "execution_count": null,
   "metadata": {},
   "outputs": [],
   "source": [
    "df_filtered['fsacc_err'] = np.sqrt((df_filtered['fsaccX'] - df_filtered['TarX'])**2 + (df_filtered['fsaccY'] - df_filtered['TarY'])**2)"
   ]
  },
  {
   "cell_type": "code",
   "execution_count": null,
   "metadata": {},
   "outputs": [],
   "source": [
    "quick_visualization(df_filtered)"
   ]
  },
  {
   "cell_type": "code",
   "execution_count": null,
   "metadata": {},
   "outputs": [],
   "source": [
    "distribution_plots(df_filtered)"
   ]
  },
  {
   "cell_type": "code",
   "execution_count": null,
   "metadata": {},
   "outputs": [],
   "source": []
  }
 ],
 "metadata": {
  "kernelspec": {
   "display_name": "mgs",
   "language": "python",
   "name": "python3"
  },
  "language_info": {
   "codemirror_mode": {
    "name": "ipython",
    "version": 3
   },
   "file_extension": ".py",
   "mimetype": "text/x-python",
   "name": "python",
   "nbconvert_exporter": "python",
   "pygments_lexer": "ipython3",
   "version": "3.11.4"
  },
  "orig_nbformat": 4
 },
 "nbformat": 4,
 "nbformat_minor": 2
}
