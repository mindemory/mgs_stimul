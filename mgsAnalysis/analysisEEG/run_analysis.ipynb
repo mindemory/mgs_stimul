{
 "cells": [
  {
   "cell_type": "code",
   "execution_count": 1,
   "metadata": {},
   "outputs": [],
   "source": [
    "import numpy as np\n",
    "import os\n",
    "import pandas as pd\n",
    "import h5py\n",
    "from scipy.io import loadmat\n",
    "import socket\n",
    "\n",
    "hostname = socket.gethostname()\n",
    "p = {}\n",
    "if hostname == 'syndrome' or hostname == 'zod.psych.nyu.edu' or hostname == 'zod':\n",
    "    p['datc'] = '/d/DATC/datc/MD_TMS_EEG'\n",
    "else:\n",
    "    p['datc'] = '/Users/mrugankdake/Documents/Clayspace/EEG_TMS/datc/MD_TMS_EEG'\n",
    "p['data'] = p['datc'] + '/data'\n",
    "p['analysis'] = p['datc'] + '/analysis'\n",
    "p['EEGfiles'] = p['datc'] + '/EEGfiles'\n",
    "p['meta'] = p['analysis'] + '/meta_analysis'\n",
    "p['df_fname'] = os.path.join(p['meta'], 'calib_filtered.csv')\n",
    "p['master_evoked'] = os.path.join(p['EEGfiles'], 'masterTFR_evoked.mat')\n",
    "p['master_induced'] = os.path.join(p['EEGfiles'], 'masterTFR_induced.mat')\n",
    "\n",
    "# Load up summary meta-data\n",
    "summary_df = pd.read_csv(os.path.join(p['analysis'] + '/EEG_TMS_meta_Summary.csv'))\n",
    "All_metadata = {row['Subject ID']: row for _, row in summary_df.iterrows()}\n",
    "\n",
    "# Load up behavioral data\n",
    "df_behav = pd.read_csv(p['df_fname'])\n",
    "\n",
    "# master_evoked = loadmat(p['master_evoked'])\n",
    "# master_induced = loadmat(p['master_induced'])"
   ]
  },
  {
   "cell_type": "code",
   "execution_count": 14,
   "metadata": {},
   "outputs": [],
   "source": [
    "sub_list = [1]\n",
    "day_list = [1]\n",
    "tfr_type = 'evoked'\n",
    "for ss in sub_list:\n",
    "    for dd in day_list:\n",
    "        this_fname = os.path.join(p['EEGfiles'], f'sub{ss:02}', f'day{dd:02}', f'sub{ss:02}_day{dd:02}_TFR_'+tfr_type+'.mat')\n",
    "        with h5py.File(this_fname, 'r') as f:\n",
    "            X = np.array(f['POW']['pin']['powspctrm'])\n",
    "            ch_labels = np.array(f['POW']['pin']['label'])\n",
    "            freq = np.array(f['POW']['pin']['freq'])\n",
    "            time = np.array(f['POW']['pin']['time'])\n",
    "        "
   ]
  },
  {
   "cell_type": "code",
   "execution_count": 18,
   "metadata": {},
   "outputs": [
    {
     "data": {
      "text/plain": [
       "(200, 53, 62, 99)"
      ]
     },
     "execution_count": 18,
     "metadata": {},
     "output_type": "execute_result"
    }
   ],
   "source": [
    "X.shape"
   ]
  },
  {
   "cell_type": "code",
   "execution_count": null,
   "metadata": {},
   "outputs": [],
   "source": []
  }
 ],
 "metadata": {
  "kernelspec": {
   "display_name": "eegmne",
   "language": "python",
   "name": "python3"
  },
  "language_info": {
   "codemirror_mode": {
    "name": "ipython",
    "version": 3
   },
   "file_extension": ".py",
   "mimetype": "text/x-python",
   "name": "python",
   "nbconvert_exporter": "python",
   "pygments_lexer": "ipython3",
   "version": "3.10.13"
  }
 },
 "nbformat": 4,
 "nbformat_minor": 2
}
